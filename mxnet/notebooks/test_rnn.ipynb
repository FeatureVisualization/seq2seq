{
 "cells": [
  {
   "cell_type": "code",
   "execution_count": 1,
   "metadata": {
    "collapsed": true
   },
   "outputs": [],
   "source": [
    "import mxnet as mx\n",
    "import numpy as np"
   ]
  },
  {
   "cell_type": "code",
   "execution_count": 2,
   "metadata": {
    "collapsed": false
   },
   "outputs": [],
   "source": [
    "x = np.random.uniform(size = (5, 3, 10))\n",
    "w = np.random.uniform(-1,1,(10,10))"
   ]
  },
  {
   "cell_type": "code",
   "execution_count": 14,
   "metadata": {
    "collapsed": false
   },
   "outputs": [
    {
     "ename": "AttributeError",
     "evalue": "'int' object has no attribute 'device_typeid'",
     "output_type": "error",
     "traceback": [
      "\u001b[0;31m---------------------------------------------------------------------------\u001b[0m",
      "\u001b[0;31mAttributeError\u001b[0m                            Traceback (most recent call last)",
      "\u001b[0;32m<ipython-input-14-353645acf8a9>\u001b[0m in \u001b[0;36m<module>\u001b[0;34m()\u001b[0m\n\u001b[1;32m     14\u001b[0m \u001b[0mout\u001b[0m \u001b[0;34m=\u001b[0m \u001b[0mmx\u001b[0m\u001b[0;34m.\u001b[0m\u001b[0msym\u001b[0m\u001b[0;34m.\u001b[0m\u001b[0mActivation\u001b[0m\u001b[0;34m(\u001b[0m\u001b[0mdata\u001b[0m\u001b[0;34m=\u001b[0m\u001b[0mrnn\u001b[0m\u001b[0;34m,\u001b[0m \u001b[0mact_type\u001b[0m\u001b[0;34m=\u001b[0m\u001b[0;34m'tanh'\u001b[0m\u001b[0;34m)\u001b[0m\u001b[0;34m\u001b[0m\u001b[0m\n\u001b[1;32m     15\u001b[0m \u001b[0;34m\u001b[0m\u001b[0m\n\u001b[0;32m---> 16\u001b[0;31m \u001b[0mexecutor\u001b[0m \u001b[0;34m=\u001b[0m \u001b[0mout\u001b[0m\u001b[0;34m.\u001b[0m\u001b[0mbind\u001b[0m\u001b[0;34m(\u001b[0m\u001b[0mctx\u001b[0m\u001b[0;34m=\u001b[0m\u001b[0mmx\u001b[0m\u001b[0;34m.\u001b[0m\u001b[0mcpu\u001b[0m\u001b[0;34m(\u001b[0m\u001b[0;34m)\u001b[0m\u001b[0;34m,\u001b[0m \u001b[0margs\u001b[0m\u001b[0;34m=\u001b[0m\u001b[0;34m{\u001b[0m\u001b[0;34m'data'\u001b[0m\u001b[0;34m:\u001b[0m \u001b[0mmx\u001b[0m\u001b[0;34m.\u001b[0m\u001b[0mnd\u001b[0m\u001b[0;34m.\u001b[0m\u001b[0marray\u001b[0m\u001b[0;34m(\u001b[0m\u001b[0mx\u001b[0m\u001b[0;34m)\u001b[0m\u001b[0;34m,\u001b[0m \u001b[0;34m'i2h'\u001b[0m\u001b[0;34m:\u001b[0m \u001b[0mmx\u001b[0m\u001b[0;34m.\u001b[0m\u001b[0mnd\u001b[0m\u001b[0;34m.\u001b[0m\u001b[0marray\u001b[0m\u001b[0;34m(\u001b[0m\u001b[0mw\u001b[0m\u001b[0;34m)\u001b[0m\u001b[0;34m,\u001b[0m \u001b[0;34m'init_state'\u001b[0m\u001b[0;34m:\u001b[0m \u001b[0mmx\u001b[0m\u001b[0;34m.\u001b[0m\u001b[0mnd\u001b[0m\u001b[0;34m.\u001b[0m\u001b[0mzeros\u001b[0m\u001b[0;34m(\u001b[0m\u001b[0;36m1\u001b[0m\u001b[0;34m,\u001b[0m\u001b[0;36m3\u001b[0m\u001b[0;34m,\u001b[0m\u001b[0;36m10\u001b[0m\u001b[0;34m)\u001b[0m\u001b[0;34m}\u001b[0m\u001b[0;34m)\u001b[0m\u001b[0;34m\u001b[0m\u001b[0m\n\u001b[0m",
      "\u001b[0;32mC:\\Users\\chuaf\\AppData\\Local\\Continuum\\Miniconda3\\lib\\site-packages\\mxnet-0.7.0-py3.5.egg\\mxnet\\ndarray.py\u001b[0m in \u001b[0;36mzeros\u001b[0;34m(shape, ctx, dtype)\u001b[0m\n\u001b[1;32m    813\u001b[0m         \u001b[0mThe\u001b[0m \u001b[0mcreated\u001b[0m \u001b[0mNDArray\u001b[0m\u001b[0;34m.\u001b[0m\u001b[0;34m\u001b[0m\u001b[0m\n\u001b[1;32m    814\u001b[0m     \"\"\"\n\u001b[0;32m--> 815\u001b[0;31m     \u001b[0marr\u001b[0m \u001b[0;34m=\u001b[0m \u001b[0mempty\u001b[0m\u001b[0;34m(\u001b[0m\u001b[0mshape\u001b[0m\u001b[0;34m,\u001b[0m \u001b[0mctx\u001b[0m\u001b[0;34m,\u001b[0m \u001b[0mdtype\u001b[0m\u001b[0;34m)\u001b[0m\u001b[0;34m\u001b[0m\u001b[0m\n\u001b[0m\u001b[1;32m    816\u001b[0m     \u001b[0marr\u001b[0m\u001b[0;34m[\u001b[0m\u001b[0;34m:\u001b[0m\u001b[0;34m]\u001b[0m \u001b[0;34m=\u001b[0m \u001b[0;36m0.0\u001b[0m\u001b[0;34m\u001b[0m\u001b[0m\n\u001b[1;32m    817\u001b[0m     \u001b[0;32mreturn\u001b[0m \u001b[0marr\u001b[0m\u001b[0;34m\u001b[0m\u001b[0m\n",
      "\u001b[0;32mC:\\Users\\chuaf\\AppData\\Local\\Continuum\\Miniconda3\\lib\\site-packages\\mxnet-0.7.0-py3.5.egg\\mxnet\\ndarray.py\u001b[0m in \u001b[0;36mempty\u001b[0;34m(shape, ctx, dtype)\u001b[0m\n\u001b[1;32m    549\u001b[0m     \u001b[0;32mif\u001b[0m \u001b[0mctx\u001b[0m \u001b[0;32mis\u001b[0m \u001b[0;32mNone\u001b[0m\u001b[0;34m:\u001b[0m\u001b[0;34m\u001b[0m\u001b[0m\n\u001b[1;32m    550\u001b[0m         \u001b[0mctx\u001b[0m \u001b[0;34m=\u001b[0m \u001b[0mContext\u001b[0m\u001b[0;34m.\u001b[0m\u001b[0mdefault_ctx\u001b[0m\u001b[0;34m\u001b[0m\u001b[0m\n\u001b[0;32m--> 551\u001b[0;31m     \u001b[0;32mreturn\u001b[0m \u001b[0mNDArray\u001b[0m\u001b[0;34m(\u001b[0m\u001b[0mhandle\u001b[0m\u001b[0;34m=\u001b[0m\u001b[0m_new_alloc_handle\u001b[0m\u001b[0;34m(\u001b[0m\u001b[0mshape\u001b[0m\u001b[0;34m,\u001b[0m \u001b[0mctx\u001b[0m\u001b[0;34m,\u001b[0m \u001b[0;32mFalse\u001b[0m\u001b[0;34m,\u001b[0m \u001b[0mdtype\u001b[0m\u001b[0;34m)\u001b[0m\u001b[0;34m)\u001b[0m\u001b[0;34m\u001b[0m\u001b[0m\n\u001b[0m\u001b[1;32m    552\u001b[0m \u001b[0;34m\u001b[0m\u001b[0m\n\u001b[1;32m    553\u001b[0m \u001b[0;31m#pylint: disable= too-many-arguments, no-member, protected-access\u001b[0m\u001b[0;34m\u001b[0m\u001b[0;34m\u001b[0m\u001b[0m\n",
      "\u001b[0;32mC:\\Users\\chuaf\\AppData\\Local\\Continuum\\Miniconda3\\lib\\site-packages\\mxnet-0.7.0-py3.5.egg\\mxnet\\ndarray.py\u001b[0m in \u001b[0;36m_new_alloc_handle\u001b[0;34m(shape, ctx, delay_alloc, dtype)\u001b[0m\n\u001b[1;32m     63\u001b[0m         \u001b[0mc_array\u001b[0m\u001b[0;34m(\u001b[0m\u001b[0mmx_uint\u001b[0m\u001b[0;34m,\u001b[0m \u001b[0mshape\u001b[0m\u001b[0;34m)\u001b[0m\u001b[0;34m,\u001b[0m\u001b[0;34m\u001b[0m\u001b[0m\n\u001b[1;32m     64\u001b[0m         \u001b[0mmx_uint\u001b[0m\u001b[0;34m(\u001b[0m\u001b[0mlen\u001b[0m\u001b[0;34m(\u001b[0m\u001b[0mshape\u001b[0m\u001b[0;34m)\u001b[0m\u001b[0;34m)\u001b[0m\u001b[0;34m,\u001b[0m\u001b[0;34m\u001b[0m\u001b[0m\n\u001b[0;32m---> 65\u001b[0;31m         \u001b[0mctypes\u001b[0m\u001b[0;34m.\u001b[0m\u001b[0mc_int\u001b[0m\u001b[0;34m(\u001b[0m\u001b[0mctx\u001b[0m\u001b[0;34m.\u001b[0m\u001b[0mdevice_typeid\u001b[0m\u001b[0;34m)\u001b[0m\u001b[0;34m,\u001b[0m\u001b[0;34m\u001b[0m\u001b[0m\n\u001b[0m\u001b[1;32m     66\u001b[0m         \u001b[0mctypes\u001b[0m\u001b[0;34m.\u001b[0m\u001b[0mc_int\u001b[0m\u001b[0;34m(\u001b[0m\u001b[0mctx\u001b[0m\u001b[0;34m.\u001b[0m\u001b[0mdevice_id\u001b[0m\u001b[0;34m)\u001b[0m\u001b[0;34m,\u001b[0m\u001b[0;34m\u001b[0m\u001b[0m\n\u001b[1;32m     67\u001b[0m         \u001b[0mctypes\u001b[0m\u001b[0;34m.\u001b[0m\u001b[0mc_int\u001b[0m\u001b[0;34m(\u001b[0m\u001b[0mint\u001b[0m\u001b[0;34m(\u001b[0m\u001b[0mdelay_alloc\u001b[0m\u001b[0;34m)\u001b[0m\u001b[0;34m)\u001b[0m\u001b[0;34m,\u001b[0m\u001b[0;34m\u001b[0m\u001b[0m\n",
      "\u001b[0;31mAttributeError\u001b[0m: 'int' object has no attribute 'device_typeid'"
     ]
    }
   ],
   "source": [
    "i2h = mx.sym.Variable('i2h') # apparently only this is used\n",
    "init_state = mx.sym.Variable('init_state') # initial states of the RNN\n",
    "data = mx.sym.Variable('data')\n",
    "\n",
    "rnn = mx.sym.RNN(\n",
    "    data=data, \n",
    "    parameters=i2h, \n",
    "    state=init_state,\n",
    "    state_size=10,\n",
    "    num_layers=2,\n",
    "    mode='rnn_tanh'\n",
    ")\n",
    "\n",
    "out = mx.sym.Activation(data=rnn, act_type='tanh')\n",
    "\n",
    "executor = out.bind(ctx=mx.cpu(), args={'data': mx.nd.array(x), 'i2h': mx.nd.array(w), 'init_state': mx.nd.zeros(1,3,10)})"
   ]
  },
  {
   "cell_type": "code",
   "execution_count": 9,
   "metadata": {
    "collapsed": false
   },
   "outputs": [],
   "source": [
    "h2h = i2h + i2h\n",
    "executor = h2h.bind(ctx=mx.cpu(), args={'i2h': mx.nd.array(x)})"
   ]
  },
  {
   "cell_type": "code",
   "execution_count": 13,
   "metadata": {
    "collapsed": false
   },
   "outputs": [
    {
     "data": {
      "text/plain": [
       "array([[[  0.00000000e+00,   0.00000000e+00,   0.00000000e+00,\n",
       "           0.00000000e+00,   0.00000000e+00,   0.00000000e+00,\n",
       "           1.94215710e+31,   6.59498708e+22,   7.15554607e+22,\n",
       "           7.22495768e+28],\n",
       "        [  6.19700993e-04,   2.33767755e-18,   7.31694844e+28,\n",
       "           7.71279537e+31,   3.23108080e-18,   3.07346971e+32,\n",
       "           1.28487018e+31,   1.73251938e+19,   6.59453041e+22,\n",
       "           4.74273749e+30],\n",
       "        [  4.83741572e+30,   2.33640576e-18,   6.74221425e+22,\n",
       "           1.22575317e+25,   3.91618684e-02,   5.64855940e-11,\n",
       "           5.39954297e-11,   1.83137315e+25,   6.97683288e+22,\n",
       "           1.35712881e-08]],\n",
       "\n",
       "       [[  1.43278952e-19,   2.78691912e+29,   7.15381308e+22,\n",
       "           7.67339708e+34,   1.15299647e+27,   4.61142575e+24,\n",
       "           1.21233213e+25,   1.94209424e+31,   1.70520179e+28,\n",
       "           7.39773286e+31],\n",
       "        [  2.81832432e+20,   3.91592532e-02,   5.64855940e-11,\n",
       "           5.39954297e-11,   1.83137315e+25,   6.97683288e+22,\n",
       "           1.80393361e+28,   1.77039074e+31,   7.21284447e+22,\n",
       "           8.68233173e-18],\n",
       "        [  1.80137990e+25,   1.09002519e+27,   2.81831324e+20,\n",
       "           2.06164686e-19,   5.08328307e+31,   1.72224020e+11,\n",
       "           1.70453417e+28,   2.81751456e+20,   3.09946857e+27,\n",
       "           7.89169147e+34]],\n",
       "\n",
       "       [[  2.46934285e+20,   1.03952889e+21,   2.33696644e-15,\n",
       "           2.81751456e+20,   1.70341131e+28,   1.87571972e+28,\n",
       "           1.60196528e-19,   1.38229703e+31,   1.87290239e+11,\n",
       "           1.89495572e+17],\n",
       "        [  1.35632572e-19,   7.14292950e+31,   2.63142529e+20,\n",
       "           1.46012112e-19,   1.35890420e-19,   2.76845839e+20,\n",
       "           7.00624003e+22,   1.92046135e+31,   3.37009015e+24,\n",
       "           1.70313989e+28],\n",
       "        [  1.35631564e-19,   7.14495034e+31,   1.80460572e+28,\n",
       "           1.77039074e+31,   7.21284447e+22,   2.01898813e-19,\n",
       "           1.26864482e+31,   7.21284447e+22,   3.03036293e+35,\n",
       "           6.44794718e-10]],\n",
       "\n",
       "       [[  2.01898813e-19,   1.23891096e+28,   1.08042942e+27,\n",
       "           4.54520354e+30,   2.53294326e-12,   1.35890420e-19,\n",
       "           7.33867841e+28,   2.62839829e-15,   1.71807950e+19,\n",
       "           4.50288366e+24],\n",
       "        [  5.29265454e-14,   1.70550296e+28,   2.07064594e-19,\n",
       "           1.92379410e+34,   4.82506320e+27,   7.20198601e+31,\n",
       "           7.14519309e+31,   1.32358122e-14,   2.81751456e+20,\n",
       "           1.84488845e+28],\n",
       "        [  4.15283564e+21,   7.93035283e+34,   2.62840083e-15,\n",
       "           4.50288366e+24,   1.70341131e+28,   1.86136615e+34,\n",
       "           7.77666437e+31,   3.91716324e-02,   1.84488502e+28,\n",
       "           1.80571748e+28]],\n",
       "\n",
       "       [[  7.19891727e+31,   1.92472045e+34,   3.04727258e+32,\n",
       "           1.45825842e-19,   1.83371041e+31,   1.23579461e+22,\n",
       "           3.12881117e-15,   1.92379373e+34,   5.19390572e-11,\n",
       "           2.79522121e+20],\n",
       "        [  5.51021665e-14,   1.26276587e+25,   6.38607075e-04,\n",
       "           5.64855940e-11,   2.01060637e+20,   7.31617512e+34,\n",
       "           2.40824895e-12,   1.80393266e+28,   1.77039074e+31,\n",
       "           7.21284447e+22],\n",
       "        [  3.09924397e+27,   1.75746941e+22,   4.54526550e+30,\n",
       "           2.45128340e-09,   2.50583820e-09,   5.62130095e-14,\n",
       "           1.28486208e+31,   1.77507818e+28,   2.19748928e+23,\n",
       "           7.18458933e+22]]], dtype=float32)"
      ]
     },
     "execution_count": 13,
     "metadata": {},
     "output_type": "execute_result"
    }
   ],
   "source": [
    "executor.outputs[0].asnumpy()"
   ]
  },
  {
   "cell_type": "code",
   "execution_count": null,
   "metadata": {
    "collapsed": true
   },
   "outputs": [],
   "source": []
  }
 ],
 "metadata": {
  "kernelspec": {
   "display_name": "Python 3",
   "language": "python",
   "name": "python3"
  },
  "language_info": {
   "codemirror_mode": {
    "name": "ipython",
    "version": 3
   },
   "file_extension": ".py",
   "mimetype": "text/x-python",
   "name": "python",
   "nbconvert_exporter": "python",
   "pygments_lexer": "ipython3",
   "version": "3.5.2"
  }
 },
 "nbformat": 4,
 "nbformat_minor": 0
}
